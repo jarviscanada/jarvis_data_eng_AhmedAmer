{
 "cells": [
  {
   "cell_type": "markdown",
   "metadata": {
    "application/vnd.databricks.v1+cell": {
     "cellMetadata": {},
     "inputWidgets": {},
     "nuid": "d1c30491-3edc-4d4e-afd6-81728a21a427",
     "showTitle": false,
     "tableResultSettingsMap": {},
     "title": ""
    }
   },
   "source": [
    "# Introduction"
   ]
  },
  {
   "cell_type": "markdown",
   "metadata": {
    "application/vnd.databricks.v1+cell": {
     "cellMetadata": {},
     "inputWidgets": {},
     "nuid": "53193039-ba28-4c23-92e7-d4109013bb0c",
     "showTitle": false,
     "tableResultSettingsMap": {},
     "title": ""
    }
   },
   "source": [
    "## Learning Objectives\n",
    "In this notebook, you will learn Spark Dataframe APIs.\n",
    "\n",
    "## Question List\n",
    "\n",
    "Solve the following questions using Spark Dataframe APIs\n",
    "\n",
    "### Join\n",
    "\n",
    "1. easy - https://pgexercises.com/questions/joins/simplejoin.html\n",
    "2. easy - https://pgexercises.com/questions/joins/simplejoin2.html\n",
    "3. easy - https://pgexercises.com/questions/joins/self2.html \n",
    "4. medium - https://pgexercises.com/questions/joins/threejoin.html (three join)\n",
    "5. medium - https://pgexercises.com/questions/joins/sub.html (subquery and join)\n",
    "\n",
    "### Aggregation\n",
    "\n",
    "1. easy - https://pgexercises.com/questions/aggregates/count3.html Group by order by\n",
    "2. easy - https://pgexercises.com/questions/aggregates/fachours.html group by order by\n",
    "3. easy - https://pgexercises.com/questions/aggregates/fachoursbymonth.html group by with condition \n",
    "4. easy - https://pgexercises.com/questions/aggregates/fachoursbymonth2.html group by multi col\n",
    "5. easy - https://pgexercises.com/questions/aggregates/members1.html count distinct\n",
    "6. med - https://pgexercises.com/questions/aggregates/nbooking.html group by multiple cols, join\n",
    "\n",
    "### String & Date\n",
    "\n",
    "1. easy - https://pgexercises.com/questions/string/concat.html format string\n",
    "2. easy - https://pgexercises.com/questions/string/case.html WHERE + string function\n",
    "3. easy - https://pgexercises.com/questions/string/reg.html WHERE + string function\n",
    "4. easy - https://pgexercises.com/questions/string/substr.html group by, substr\n",
    "5. easy - https://pgexercises.com/questions/date/series.html generate ts\n",
    "6. easy - https://pgexercises.com/questions/date/bookingspermonth.html extract month from ts"
   ]
  },
  {
   "cell_type": "markdown",
   "metadata": {
    "application/vnd.databricks.v1+cell": {
     "cellMetadata": {},
     "inputWidgets": {},
     "nuid": "30d21d96-d4fd-4c9c-8f7d-697bcb7d11b7",
     "showTitle": false,
     "tableResultSettingsMap": {},
     "title": ""
    }
   },
   "source": [
    "# Answers"
   ]
  },
  {
   "cell_type": "markdown",
   "metadata": {
    "application/vnd.databricks.v1+cell": {
     "cellMetadata": {},
     "inputWidgets": {},
     "nuid": "a79ed79f-df91-4a0f-8625-4a592817a967",
     "showTitle": false,
     "tableResultSettingsMap": {},
     "title": ""
    }
   },
   "source": [
    "## Joins"
   ]
  },
  {
   "cell_type": "markdown",
   "metadata": {
    "application/vnd.databricks.v1+cell": {
     "cellMetadata": {},
     "inputWidgets": {},
     "nuid": "5af8ed8a-34dc-4766-a62b-cdc1dfd2ec41",
     "showTitle": false,
     "tableResultSettingsMap": {},
     "title": ""
    }
   },
   "source": [
    "### Question 1\n",
    "\n",
    "How can you produce a list of the start times for bookings by members named 'David Farrell'?\n",
    "\n",
    "https://pgexercises.com/questions/joins/simplejoin.html"
   ]
  },
  {
   "cell_type": "code",
   "execution_count": 0,
   "metadata": {
    "application/vnd.databricks.v1+cell": {
     "cellMetadata": {
      "byteLimit": 2048000,
      "rowLimit": 10000
     },
     "inputWidgets": {},
     "nuid": "cd26e494-0ac0-4d54-b463-563b18d5d371",
     "showTitle": false,
     "tableResultSettingsMap": {},
     "title": ""
    }
   },
   "outputs": [
    {
     "name": "stdout",
     "output_type": "stream",
     "text": [
      "+-------------------+\n",
      "|          starttime|\n",
      "+-------------------+\n",
      "|2012-09-18 09:00:00|\n",
      "|2012-09-18 17:30:00|\n",
      "|2012-09-18 13:30:00|\n",
      "|2012-09-18 20:00:00|\n",
      "|2012-09-19 09:30:00|\n",
      "|2012-09-19 15:00:00|\n",
      "|2012-09-19 12:00:00|\n",
      "|2012-09-20 15:30:00|\n",
      "|2012-09-20 11:30:00|\n",
      "|2012-09-20 14:00:00|\n",
      "|2012-09-21 10:30:00|\n",
      "|2012-09-21 14:00:00|\n",
      "|2012-09-22 08:30:00|\n",
      "|2012-09-22 17:00:00|\n",
      "|2012-09-23 08:30:00|\n",
      "|2012-09-23 17:30:00|\n",
      "|2012-09-23 19:00:00|\n",
      "|2012-09-24 08:00:00|\n",
      "|2012-09-24 16:30:00|\n",
      "|2012-09-24 12:30:00|\n",
      "+-------------------+\n",
      "only showing top 20 rows\n",
      "\n"
     ]
    }
   ],
   "source": [
    "from pyspark.sql.functions import col \n",
    "\n",
    "df_book = spark.table('bookings')\n",
    "df_mem = spark.table('members')\n",
    "result = df_book.join(\n",
    "  df_mem, df_book.memid == df_mem.memid, \"inner\"\n",
    ")\n",
    "result = result.filter(\n",
    "  (col('surname') == \"Farrell\") & (col(\"firstname\") == \"David\")\n",
    ").select(col('starttime'))\n",
    "result.show()"
   ]
  },
  {
   "cell_type": "markdown",
   "metadata": {
    "application/vnd.databricks.v1+cell": {
     "cellMetadata": {},
     "inputWidgets": {},
     "nuid": "e89267f3-e37a-4c7a-8c02-f73db5c995c2",
     "showTitle": false,
     "tableResultSettingsMap": {},
     "title": ""
    }
   },
   "source": [
    "### Question 2\n",
    "\n",
    "How can you produce a list of the start times for bookings for tennis courts, for the date '2012-09-21'? Return a list of start time and facility name pairings, ordered by the time.\n",
    "\n",
    "https://pgexercises.com/questions/joins/simplejoin2.html"
   ]
  },
  {
   "cell_type": "code",
   "execution_count": 0,
   "metadata": {
    "application/vnd.databricks.v1+cell": {
     "cellMetadata": {
      "byteLimit": 2048000,
      "rowLimit": 10000
     },
     "inputWidgets": {},
     "nuid": "d741e812-2b7b-4cbe-9694-e4f89a19df9b",
     "showTitle": false,
     "tableResultSettingsMap": {},
     "title": ""
    }
   },
   "outputs": [
    {
     "name": "stdout",
     "output_type": "stream",
     "text": [
      "+-------------------+--------------+\n",
      "|          starttime|          name|\n",
      "+-------------------+--------------+\n",
      "|2012-09-21 08:00:00|Tennis Court 1|\n",
      "|2012-09-21 08:00:00|Tennis Court 2|\n",
      "|2012-09-21 09:30:00|Tennis Court 1|\n",
      "|2012-09-21 10:00:00|Tennis Court 2|\n",
      "|2012-09-21 11:30:00|Tennis Court 2|\n",
      "|2012-09-21 12:00:00|Tennis Court 1|\n",
      "|2012-09-21 13:30:00|Tennis Court 1|\n",
      "|2012-09-21 14:00:00|Tennis Court 2|\n",
      "|2012-09-21 15:30:00|Tennis Court 1|\n",
      "|2012-09-21 16:00:00|Tennis Court 2|\n",
      "|2012-09-21 17:00:00|Tennis Court 1|\n",
      "|2012-09-21 18:00:00|Tennis Court 2|\n",
      "+-------------------+--------------+\n",
      "\n"
     ]
    }
   ],
   "source": [
    "from pyspark.sql.functions import to_date\n",
    "\n",
    "df_fac = spark.table(\"facilities\")\n",
    "\n",
    "result = df_book.join(\n",
    "    df_fac, df_book.facid == df_fac.facid, \"inner\"\n",
    ").filter(\n",
    "    (to_date(col('starttime')) == \"2012-09-21\") \n",
    "    & \n",
    "    (col('name').contains(\"Tennis Court\"))\n",
    ").select(\n",
    "    'starttime',\n",
    "    'name'\n",
    ").orderBy(\n",
    "    'starttime'\n",
    ")\n",
    "\n",
    "result.show()\n"
   ]
  },
  {
   "cell_type": "markdown",
   "metadata": {
    "application/vnd.databricks.v1+cell": {
     "cellMetadata": {},
     "inputWidgets": {},
     "nuid": "a36bfb81-23a2-4eac-88fb-9f5a7c3fef69",
     "showTitle": false,
     "tableResultSettingsMap": {},
     "title": ""
    }
   },
   "source": [
    "### Question 3\n",
    "\n",
    "How can you output a list of all members, including the individual who recommended them (if any)? Ensure that results are ordered by (surname, firstname).\n",
    "\n",
    "https://pgexercises.com/questions/joins/self2.html"
   ]
  },
  {
   "cell_type": "code",
   "execution_count": 0,
   "metadata": {
    "application/vnd.databricks.v1+cell": {
     "cellMetadata": {
      "byteLimit": 2048000,
      "rowLimit": 10000
     },
     "inputWidgets": {},
     "nuid": "f4695d7c-9b6a-450e-b900-e0752239b560",
     "showTitle": false,
     "tableResultSettingsMap": {},
     "title": ""
    }
   },
   "outputs": [
    {
     "name": "stdout",
     "output_type": "stream",
     "text": [
      "+---------+---------+---------+--------+\n",
      "| memfname| memsname| recfname|recsname|\n",
      "+---------+---------+---------+--------+\n",
      "| Florence|    Bader|   Ponder|Stibbons|\n",
      "|     Anne|    Baker|   Ponder|Stibbons|\n",
      "|  Timothy|    Baker|   Jemima| Farrell|\n",
      "|      Tim|   Boothe|      Tim|  Rownam|\n",
      "|   Gerald|  Butters|   Darren|   Smith|\n",
      "|     Joan|   Coplin|  Timothy|   Baker|\n",
      "|    Erica|  Crumpet|    Tracy|   Smith|\n",
      "|    Nancy|     Dare|   Janice|Joplette|\n",
      "|    David|  Farrell|     NULL|    NULL|\n",
      "|   Jemima|  Farrell|     NULL|    NULL|\n",
      "|    GUEST|    GUEST|     NULL|    NULL|\n",
      "|  Matthew|  Genting|   Gerald| Butters|\n",
      "|     John|     Hunt|Millicent| Purview|\n",
      "|    David|    Jones|   Janice|Joplette|\n",
      "|  Douglas|    Jones|    David|   Jones|\n",
      "|   Janice| Joplette|   Darren|   Smith|\n",
      "|     Anna|Mackenzie|   Darren|   Smith|\n",
      "|  Charles|     Owen|   Darren|   Smith|\n",
      "|    David|   Pinker|   Jemima| Farrell|\n",
      "|Millicent|  Purview|    Tracy|   Smith|\n",
      "+---------+---------+---------+--------+\n",
      "only showing top 20 rows\n",
      "\n"
     ]
    }
   ],
   "source": [
    "result = df_mem.alias('mem').join(\n",
    "    df_mem.alias('rec'), col('mem.recommendedby') == col('rec.memid'), \"left\"\n",
    ").select(\n",
    "    col(\"mem.firstname\").alias('memfname'),\n",
    "    col('mem.surname').alias('memsname'),\n",
    "    col('rec.firstname').alias('recfname'),\n",
    "    col('rec.surname').alias('recsname')\n",
    ").orderBy('memsname', 'memfname')\n",
    "\n",
    "result.show()"
   ]
  },
  {
   "cell_type": "markdown",
   "metadata": {
    "application/vnd.databricks.v1+cell": {
     "cellMetadata": {},
     "inputWidgets": {},
     "nuid": "36d967f9-1f22-4470-bc15-bd29d2356443",
     "showTitle": false,
     "tableResultSettingsMap": {},
     "title": ""
    }
   },
   "source": [
    "### Question 4\n",
    "\n",
    "How can you produce a list of all members who have used a tennis court? Include in your output the name of the court, and the name of the member formatted as a single column. Ensure no duplicate data, and order by the member name followed by the facility name.\n",
    "\n",
    "https://pgexercises.com/questions/joins/threejoin.html"
   ]
  },
  {
   "cell_type": "code",
   "execution_count": 0,
   "metadata": {
    "application/vnd.databricks.v1+cell": {
     "cellMetadata": {
      "byteLimit": 2048000,
      "rowLimit": 10000
     },
     "collapsed": true,
     "inputWidgets": {},
     "nuid": "18801806-d2ef-4efd-8ed2-c2fa648e4b2b",
     "showTitle": false,
     "tableResultSettingsMap": {},
     "title": ""
    }
   },
   "outputs": [
    {
     "name": "stdout",
     "output_type": "stream",
     "text": [
      "+--------------+--------------+\n",
      "|        member|      facility|\n",
      "+--------------+--------------+\n",
      "|    Anne Baker|Tennis Court 1|\n",
      "|    Anne Baker|Tennis Court 2|\n",
      "|  Burton Tracy|Tennis Court 1|\n",
      "|  Burton Tracy|Tennis Court 2|\n",
      "|  Charles Owen|Tennis Court 1|\n",
      "|  Charles Owen|Tennis Court 2|\n",
      "|  Darren Smith|Tennis Court 2|\n",
      "| David Farrell|Tennis Court 1|\n",
      "| David Farrell|Tennis Court 2|\n",
      "|   David Jones|Tennis Court 1|\n",
      "|   David Jones|Tennis Court 2|\n",
      "|  David Pinker|Tennis Court 1|\n",
      "| Douglas Jones|Tennis Court 1|\n",
      "| Erica Crumpet|Tennis Court 1|\n",
      "|Florence Bader|Tennis Court 1|\n",
      "|Florence Bader|Tennis Court 2|\n",
      "|   GUEST GUEST|Tennis Court 1|\n",
      "|   GUEST GUEST|Tennis Court 2|\n",
      "|Gerald Butters|Tennis Court 1|\n",
      "|Gerald Butters|Tennis Court 2|\n",
      "+--------------+--------------+\n",
      "only showing top 20 rows\n",
      "\n"
     ]
    }
   ],
   "source": [
    "from pyspark.sql.functions import concat, col, lit\n",
    "\n",
    "result = df_mem.join(\n",
    "    df_book, df_mem.memid == df_book.memid, 'inner'\n",
    ").join(\n",
    "    df_fac, df_book.facid == df_fac.facid, 'inner'\n",
    ").select(\n",
    "    concat(\n",
    "        df_mem.firstname, lit(' '), df_mem.surname\n",
    "    ).alias('member'),\n",
    "    df_fac.name.alias('facility')\n",
    ").filter(\n",
    "    col('facility').contains('Tennis Court')\n",
    ").distinct().orderBy('member', 'facility')\n",
    "\n",
    "result.show()"
   ]
  },
  {
   "cell_type": "markdown",
   "metadata": {
    "application/vnd.databricks.v1+cell": {
     "cellMetadata": {},
     "inputWidgets": {},
     "nuid": "c6ff9cc7-a414-425e-9c3f-83086d8d4414",
     "showTitle": false,
     "tableResultSettingsMap": {},
     "title": ""
    }
   },
   "source": [
    "### Question 5\n",
    "\n",
    "How can you output a list of all members, including the individual who recommended them (if any), without using any joins? Ensure that there are no duplicates in the list, and that each firstname + surname pairing is formatted as a column and ordered.\n",
    "\n",
    "https://pgexercises.com/questions/joins/sub.html"
   ]
  },
  {
   "cell_type": "code",
   "execution_count": 0,
   "metadata": {
    "application/vnd.databricks.v1+cell": {
     "cellMetadata": {
      "byteLimit": 2048000,
      "rowLimit": 10000
     },
     "collapsed": true,
     "inputWidgets": {},
     "nuid": "f54a993e-8102-491c-bff5-8810d9fba6b5",
     "showTitle": false,
     "tableResultSettingsMap": {},
     "title": ""
    }
   },
   "outputs": [
    {
     "name": "stdout",
     "output_type": "stream",
     "text": [
      "+--------------------+---------------+\n",
      "|              member|    recommender|\n",
      "+--------------------+---------------+\n",
      "|      Anna Mackenzie|   Darren Smith|\n",
      "|          Anne Baker|Ponder Stibbons|\n",
      "|        Burton Tracy|           NULL|\n",
      "|        Charles Owen|   Darren Smith|\n",
      "|        Darren Smith|           NULL|\n",
      "|        Darren Smith|           NULL|\n",
      "|       David Farrell|           NULL|\n",
      "|         David Jones|Janice Joplette|\n",
      "|        David Pinker| Jemima Farrell|\n",
      "|       Douglas Jones|    David Jones|\n",
      "|       Erica Crumpet|    Tracy Smith|\n",
      "|      Florence Bader|Ponder Stibbons|\n",
      "|         GUEST GUEST|           NULL|\n",
      "|      Gerald Butters|   Darren Smith|\n",
      "|    Henrietta Rumney|Matthew Genting|\n",
      "|Henry Worthington...|    Tracy Smith|\n",
      "| Hyacinth Tupperware|           NULL|\n",
      "|          Jack Smith|   Darren Smith|\n",
      "|     Janice Joplette|   Darren Smith|\n",
      "|      Jemima Farrell|           NULL|\n",
      "+--------------------+---------------+\n",
      "only showing top 20 rows\n",
      "\n"
     ]
    }
   ],
   "source": [
    "from pyspark.sql.functions import concat, col, lit, udf\n",
    "from pyspark.sql.types import StringType\n",
    "\n",
    "df_mem_broadcast = spark.sparkContext.broadcast(\n",
    "    df_mem.collect()\n",
    ")\n",
    "\n",
    "def get_rec_name(recid):\n",
    "    if recid is None:\n",
    "        return None\n",
    "    rec_name = [row for row in df_mem_broadcast.value if row['memid'] == recid]\n",
    "\n",
    "    if rec_name:\n",
    "        return f\"{rec_name[0]['firstname']} {rec_name[0]['surname']}\"\n",
    "    else:\n",
    "        return None\n",
    "    \n",
    "get_rec_name_udf = udf(\n",
    "    get_rec_name,\n",
    "    StringType()\n",
    ")\n",
    "\n",
    "result = df_mem.withColumn(\n",
    "    'recommender',\n",
    "    get_rec_name_udf(col('recommendedby'))\n",
    ").select(\n",
    "    concat(\n",
    "        col('firstname'), lit(' '), col('surname')\n",
    "    ).alias('member'),\n",
    "    'recommender'\n",
    ").orderBy('member')\n",
    "\n",
    "result.show()"
   ]
  },
  {
   "cell_type": "markdown",
   "metadata": {
    "application/vnd.databricks.v1+cell": {
     "cellMetadata": {},
     "inputWidgets": {},
     "nuid": "34b3492f-4960-49cb-947c-a27285c92ba0",
     "showTitle": false,
     "tableResultSettingsMap": {},
     "title": ""
    }
   },
   "source": [
    "## Aggregations"
   ]
  },
  {
   "cell_type": "markdown",
   "metadata": {
    "application/vnd.databricks.v1+cell": {
     "cellMetadata": {},
     "inputWidgets": {},
     "nuid": "a9f3895f-b459-4980-83b5-7c9cdbd8592c",
     "showTitle": false,
     "tableResultSettingsMap": {},
     "title": ""
    }
   },
   "source": [
    "### Question 1\n",
    "\n",
    "Produce a count of the number of recommendations each member has made. Order by member ID.\n",
    "\n",
    "https://pgexercises.com/questions/aggregates/count3.html"
   ]
  },
  {
   "cell_type": "code",
   "execution_count": 0,
   "metadata": {
    "application/vnd.databricks.v1+cell": {
     "cellMetadata": {
      "byteLimit": 2048000,
      "rowLimit": 10000
     },
     "inputWidgets": {},
     "nuid": "123f636f-2e33-4b02-9064-6bcb94a5e264",
     "showTitle": false,
     "tableResultSettingsMap": {},
     "title": ""
    }
   },
   "outputs": [
    {
     "name": "stdout",
     "output_type": "stream",
     "text": [
      "+-------------+-----+\n",
      "|recommendedby|count|\n",
      "+-------------+-----+\n",
      "|            1|    5|\n",
      "|            2|    3|\n",
      "|            3|    1|\n",
      "|            4|    2|\n",
      "|            5|    1|\n",
      "|            6|    1|\n",
      "|            9|    2|\n",
      "|           11|    1|\n",
      "|           13|    2|\n",
      "|           15|    1|\n",
      "|           16|    1|\n",
      "|           20|    1|\n",
      "|           30|    1|\n",
      "+-------------+-----+\n",
      "\n"
     ]
    }
   ],
   "source": [
    "from pyspark.sql.functions import count, col\n",
    "\n",
    "result = df_mem.groupBy('recommendedby').count().orderBy('recommendedby')\n",
    "result = result.na.drop()\n",
    "\n",
    "result.show()"
   ]
  },
  {
   "cell_type": "markdown",
   "metadata": {
    "application/vnd.databricks.v1+cell": {
     "cellMetadata": {},
     "inputWidgets": {},
     "nuid": "c8fe1904-5860-4a64-9c3c-002878b879dd",
     "showTitle": false,
     "tableResultSettingsMap": {},
     "title": ""
    }
   },
   "source": [
    "### Question 2\n",
    "\n",
    "Produce a list of the total number of slots booked per facility. For now, just produce an output table consisting of facility id and slots, sorted by facility id.\n",
    "\n",
    "https://pgexercises.com/questions/aggregates/fachours.html"
   ]
  },
  {
   "cell_type": "code",
   "execution_count": 0,
   "metadata": {
    "application/vnd.databricks.v1+cell": {
     "cellMetadata": {
      "byteLimit": 2048000,
      "rowLimit": 10000
     },
     "inputWidgets": {},
     "nuid": "c3eded63-d8d0-4348-8411-4b7cc2743bc3",
     "showTitle": false,
     "tableResultSettingsMap": {},
     "title": ""
    }
   },
   "outputs": [
    {
     "name": "stdout",
     "output_type": "stream",
     "text": [
      "+-----+-----------+\n",
      "|facid|Total Slots|\n",
      "+-----+-----------+\n",
      "|    0|       1320|\n",
      "|    1|       1278|\n",
      "|    2|       1209|\n",
      "|    3|        830|\n",
      "|    4|       1404|\n",
      "|    5|        228|\n",
      "|    6|       1104|\n",
      "|    7|        908|\n",
      "|    8|        911|\n",
      "+-----+-----------+\n",
      "\n"
     ]
    }
   ],
   "source": [
    "from pyspark.sql.functions import sum\n",
    "\n",
    "result = df_book.groupBy('facid').agg(sum('slots').alias(\"Total Slots\")).orderBy('facid')\n",
    "\n",
    "result.show()"
   ]
  },
  {
   "cell_type": "markdown",
   "metadata": {
    "application/vnd.databricks.v1+cell": {
     "cellMetadata": {},
     "inputWidgets": {},
     "nuid": "841060b0-5dd0-4d0d-b207-3fbe1d8cb28b",
     "showTitle": false,
     "tableResultSettingsMap": {},
     "title": ""
    }
   },
   "source": [
    "### Question 3\n",
    "\n",
    "Produce a list of the total number of slots booked per facility in the month of September 2012. Produce an output table consisting of facility id and slots, sorted by the number of slots.\n",
    "\n",
    "https://pgexercises.com/questions/aggregates/fachoursbymonth.html"
   ]
  },
  {
   "cell_type": "code",
   "execution_count": 0,
   "metadata": {
    "application/vnd.databricks.v1+cell": {
     "cellMetadata": {
      "byteLimit": 2048000,
      "rowLimit": 10000
     },
     "inputWidgets": {},
     "nuid": "ea705007-d96d-4900-a9f6-de21c89e4e09",
     "showTitle": false,
     "tableResultSettingsMap": {},
     "title": ""
    }
   },
   "outputs": [
    {
     "name": "stdout",
     "output_type": "stream",
     "text": [
      "+-----+-----------+\n",
      "|facid|Total Slots|\n",
      "+-----+-----------+\n",
      "|    5|        122|\n",
      "|    3|        422|\n",
      "|    7|        426|\n",
      "|    8|        471|\n",
      "|    6|        540|\n",
      "|    2|        570|\n",
      "|    1|        588|\n",
      "|    0|        591|\n",
      "|    4|        648|\n",
      "+-----+-----------+\n",
      "\n"
     ]
    }
   ],
   "source": [
    "from pyspark.sql.functions import col\n",
    "\n",
    "result = df_book.filter(\n",
    "    (col('starttime') >= \"2012-09-01\") & (col('starttime') < \"2012-10-01\")\n",
    ").groupBy('facid').agg(sum('slots').alias(\"Total Slots\")).orderBy('Total Slots')\n",
    "\n",
    "result.show()"
   ]
  },
  {
   "cell_type": "markdown",
   "metadata": {
    "application/vnd.databricks.v1+cell": {
     "cellMetadata": {},
     "inputWidgets": {},
     "nuid": "0e6a31a9-9833-44ab-800c-133768915fe2",
     "showTitle": false,
     "tableResultSettingsMap": {},
     "title": ""
    }
   },
   "source": [
    "### Question 4\n",
    "\n",
    "Produce a list of the total number of slots booked per facility per month in the year of 2012. Produce an output table consisting of facility id and slots, sorted by the id and month.\n",
    "\n",
    "https://pgexercises.com/questions/aggregates/fachoursbymonth2.html"
   ]
  },
  {
   "cell_type": "code",
   "execution_count": 0,
   "metadata": {
    "application/vnd.databricks.v1+cell": {
     "cellMetadata": {
      "byteLimit": 2048000,
      "rowLimit": 10000
     },
     "collapsed": true,
     "inputWidgets": {},
     "nuid": "e5988ee2-3aee-46ad-828b-f53e9000bb06",
     "showTitle": false,
     "tableResultSettingsMap": {},
     "title": ""
    }
   },
   "outputs": [
    {
     "name": "stdout",
     "output_type": "stream",
     "text": [
      "+-----+-----+-----------+\n",
      "|facid|month|Total Slots|\n",
      "+-----+-----+-----------+\n",
      "|    0|    7|        270|\n",
      "|    0|    8|        459|\n",
      "|    0|    9|        591|\n",
      "|    1|    7|        207|\n",
      "|    1|    8|        483|\n",
      "|    1|    9|        588|\n",
      "|    2|    7|        180|\n",
      "|    2|    8|        459|\n",
      "|    2|    9|        570|\n",
      "|    3|    7|        104|\n",
      "|    3|    8|        304|\n",
      "|    3|    9|        422|\n",
      "|    4|    7|        264|\n",
      "|    4|    8|        492|\n",
      "|    4|    9|        648|\n",
      "|    5|    7|         24|\n",
      "|    5|    8|         82|\n",
      "|    5|    9|        122|\n",
      "|    6|    7|        164|\n",
      "|    6|    8|        400|\n",
      "+-----+-----+-----------+\n",
      "only showing top 20 rows\n",
      "\n"
     ]
    }
   ],
   "source": [
    "from pyspark.sql.functions import month, year\n",
    "\n",
    "result = df_book.filter(\n",
    "    year('starttime') == 2012\n",
    ").groupBy('facid', month('starttime').alias('month')).agg(\n",
    "    sum('slots').alias(\"Total Slots\")\n",
    ").orderBy('facid', 'month')\n",
    "\n",
    "result.show()"
   ]
  },
  {
   "cell_type": "markdown",
   "metadata": {
    "application/vnd.databricks.v1+cell": {
     "cellMetadata": {},
     "inputWidgets": {},
     "nuid": "4ee3dc4a-0260-4a46-8a07-6dd82103188f",
     "showTitle": false,
     "tableResultSettingsMap": {},
     "title": ""
    }
   },
   "source": [
    "### Question 5\n",
    "\n",
    "Find the total number of members (including guests) who have made at least one booking.\n",
    "\n",
    "https://pgexercises.com/questions/aggregates/members1.html"
   ]
  },
  {
   "cell_type": "code",
   "execution_count": 0,
   "metadata": {
    "application/vnd.databricks.v1+cell": {
     "cellMetadata": {
      "byteLimit": 2048000,
      "rowLimit": 10000
     },
     "collapsed": true,
     "inputWidgets": {},
     "nuid": "d8d7fedc-d838-4348-a701-93e3d516843e",
     "showTitle": false,
     "tableResultSettingsMap": {},
     "title": ""
    }
   },
   "outputs": [
    {
     "name": "stdout",
     "output_type": "stream",
     "text": [
      "30\n"
     ]
    }
   ],
   "source": [
    "result = df_book.select('memid').distinct().count()\n",
    "\n",
    "print(result)"
   ]
  },
  {
   "cell_type": "markdown",
   "metadata": {
    "application/vnd.databricks.v1+cell": {
     "cellMetadata": {},
     "inputWidgets": {},
     "nuid": "48847774-801c-4954-b1f5-ae07c6fc0a77",
     "showTitle": false,
     "tableResultSettingsMap": {},
     "title": ""
    }
   },
   "source": [
    "### Question 6\n",
    "\n",
    "Produce a list of each member name, id, and their first booking after September 1st 2012. Order by member ID.\n",
    "\n",
    "https://pgexercises.com/questions/aggregates/nbooking.html"
   ]
  },
  {
   "cell_type": "code",
   "execution_count": 0,
   "metadata": {
    "application/vnd.databricks.v1+cell": {
     "cellMetadata": {
      "byteLimit": 2048000,
      "rowLimit": 10000
     },
     "collapsed": true,
     "inputWidgets": {},
     "nuid": "c0e84faf-2383-4f43-b632-6516de926127",
     "showTitle": false,
     "tableResultSettingsMap": {},
     "title": ""
    }
   },
   "outputs": [
    {
     "name": "stdout",
     "output_type": "stream",
     "text": [
      "+---------+---------+-----+-------------------+\n",
      "|  surname|firstname|memid|          starttime|\n",
      "+---------+---------+-----+-------------------+\n",
      "|    GUEST|    GUEST|    0|2012-09-01 08:00:00|\n",
      "|    Smith|   Darren|    1|2012-09-01 09:00:00|\n",
      "|    Smith|    Tracy|    2|2012-09-01 11:30:00|\n",
      "|   Rownam|      Tim|    3|2012-09-01 16:00:00|\n",
      "| Joplette|   Janice|    4|2012-09-01 15:00:00|\n",
      "|  Butters|   Gerald|    5|2012-09-02 12:30:00|\n",
      "|    Tracy|   Burton|    6|2012-09-01 15:00:00|\n",
      "|     Dare|    Nancy|    7|2012-09-01 12:30:00|\n",
      "|   Boothe|      Tim|    8|2012-09-01 08:30:00|\n",
      "| Stibbons|   Ponder|    9|2012-09-01 11:00:00|\n",
      "|     Owen|  Charles|   10|2012-09-01 11:00:00|\n",
      "|    Jones|    David|   11|2012-09-01 09:30:00|\n",
      "|    Baker|     Anne|   12|2012-09-01 14:30:00|\n",
      "|  Farrell|   Jemima|   13|2012-09-01 09:30:00|\n",
      "|    Smith|     Jack|   14|2012-09-01 11:00:00|\n",
      "|    Bader| Florence|   15|2012-09-01 10:30:00|\n",
      "|    Baker|  Timothy|   16|2012-09-01 15:00:00|\n",
      "|   Pinker|    David|   17|2012-09-01 08:30:00|\n",
      "|  Genting|  Matthew|   20|2012-09-01 18:00:00|\n",
      "|Mackenzie|     Anna|   21|2012-09-01 08:30:00|\n",
      "+---------+---------+-----+-------------------+\n",
      "only showing top 20 rows\n",
      "\n"
     ]
    }
   ],
   "source": [
    "from pyspark.sql.functions import min\n",
    "\n",
    "result = df_mem.join(\n",
    "    df_book, df_mem.memid == df_book.memid, 'inner'\n",
    ").filter(\n",
    "    col(\"starttime\") >= \"2012-09-01\"\n",
    ").select(\n",
    "    'surname',\n",
    "    'firstname',\n",
    "    df_mem.memid.alias('memid'),\n",
    "    \"starttime\"\n",
    ").groupBy(\n",
    "    'surname', 'firstname', 'memid'\n",
    ").agg(\n",
    "    min(col(\"starttime\")).alias(\"starttime\")\n",
    ").orderBy('memid')\n",
    "result.show()"
   ]
  },
  {
   "cell_type": "markdown",
   "metadata": {
    "application/vnd.databricks.v1+cell": {
     "cellMetadata": {},
     "inputWidgets": {},
     "nuid": "cc70c433-c73e-4fc0-b52c-81c6b7c4ea01",
     "showTitle": false,
     "tableResultSettingsMap": {},
     "title": ""
    }
   },
   "source": [
    "## String and Date"
   ]
  },
  {
   "cell_type": "markdown",
   "metadata": {
    "application/vnd.databricks.v1+cell": {
     "cellMetadata": {},
     "inputWidgets": {},
     "nuid": "bbe6f4fe-ab4b-4b1d-b04e-37075d60176d",
     "showTitle": false,
     "tableResultSettingsMap": {},
     "title": ""
    }
   },
   "source": [
    "### Question 1\n",
    "\n",
    "Output all names formatted as 'Surname, Firstname'\n",
    "\n",
    "https://pgexercises.com/questions/string/concat.html"
   ]
  },
  {
   "cell_type": "code",
   "execution_count": 0,
   "metadata": {
    "application/vnd.databricks.v1+cell": {
     "cellMetadata": {
      "byteLimit": 2048000,
      "rowLimit": 10000
     },
     "collapsed": true,
     "inputWidgets": {},
     "nuid": "3f3e73f1-ea55-47c4-8a45-24e755116988",
     "showTitle": false,
     "tableResultSettingsMap": {},
     "title": ""
    }
   },
   "outputs": [
    {
     "name": "stdout",
     "output_type": "stream",
     "text": [
      "+--------------------+\n",
      "|                name|\n",
      "+--------------------+\n",
      "|Worthington-Smyth...|\n",
      "|Tupperware, Hyacinth|\n",
      "|       Tracy, Burton|\n",
      "|    Stibbons, Ponder|\n",
      "|        Smith, Tracy|\n",
      "|         Smith, Jack|\n",
      "|       Smith, Darren|\n",
      "|       Smith, Darren|\n",
      "|   Sarwin, Ramnaresh|\n",
      "|   Rumney, Henrietta|\n",
      "|         Rownam, Tim|\n",
      "|  Purview, Millicent|\n",
      "|       Pinker, David|\n",
      "|       Owen, Charles|\n",
      "|     Mackenzie, Anna|\n",
      "|    Joplette, Janice|\n",
      "|      Jones, Douglas|\n",
      "|        Jones, David|\n",
      "|          Hunt, John|\n",
      "|    Genting, Matthew|\n",
      "+--------------------+\n",
      "only showing top 20 rows\n",
      "\n"
     ]
    }
   ],
   "source": [
    "from pyspark.sql.functions import concat, lit\n",
    "\n",
    "result = df_mem.withColumn('name', concat('surname', lit(', '), 'firstname')).select('name').orderBy('name', ascending = False)\n",
    "\n",
    "result.show()"
   ]
  },
  {
   "cell_type": "markdown",
   "metadata": {
    "application/vnd.databricks.v1+cell": {
     "cellMetadata": {},
     "inputWidgets": {},
     "nuid": "2b1ac581-0759-449e-8e40-77cb9a95f8bf",
     "showTitle": false,
     "tableResultSettingsMap": {},
     "title": ""
    }
   },
   "source": [
    "### Question 2\n",
    "\n",
    "Perform a case-insensitive search to find all facilities whose name begins with 'tennis'. Retrieve all columns.\n",
    "\n",
    "https://pgexercises.com/questions/string/case.html"
   ]
  },
  {
   "cell_type": "code",
   "execution_count": 0,
   "metadata": {
    "application/vnd.databricks.v1+cell": {
     "cellMetadata": {
      "byteLimit": 2048000,
      "rowLimit": 10000
     },
     "collapsed": true,
     "inputWidgets": {},
     "nuid": "64f8febd-397a-41f9-8da3-38420df7ddb5",
     "showTitle": false,
     "tableResultSettingsMap": {},
     "title": ""
    }
   },
   "outputs": [
    {
     "name": "stdout",
     "output_type": "stream",
     "text": [
      "+-----+--------------+----------+---------+-------------+------------------+\n",
      "|facid|          name|membercost|guestcost|initialoutlay|monthlymaintenance|\n",
      "+-----+--------------+----------+---------+-------------+------------------+\n",
      "|    0|Tennis Court 1|         5|       25|        10000|               200|\n",
      "|    1|Tennis Court 2|         5|       25|         8000|               200|\n",
      "+-----+--------------+----------+---------+-------------+------------------+\n",
      "\n"
     ]
    }
   ],
   "source": [
    "from pyspark.sql.functions import lower, startswith\n",
    "\n",
    "result = df_fac.filter(\n",
    "    lower(col('name')).startswith('tennis')\n",
    ")\n",
    "\n",
    "result.show()"
   ]
  },
  {
   "cell_type": "markdown",
   "metadata": {
    "application/vnd.databricks.v1+cell": {
     "cellMetadata": {},
     "inputWidgets": {},
     "nuid": "c975dfe5-4cfd-4a51-9981-23f713fb556f",
     "showTitle": false,
     "tableResultSettingsMap": {},
     "title": ""
    }
   },
   "source": [
    "### Question 3\n",
    "\n",
    "You've noticed that the club's member table has telephone numbers with very inconsistent formatting. You'd like to find all the telephone numbers that contain parentheses, returning the member ID and telephone number sorted by member ID.\n",
    "\n",
    "https://pgexercises.com/questions/string/reg.html"
   ]
  },
  {
   "cell_type": "code",
   "execution_count": 0,
   "metadata": {
    "application/vnd.databricks.v1+cell": {
     "cellMetadata": {
      "byteLimit": 2048000,
      "rowLimit": 10000
     },
     "collapsed": true,
     "inputWidgets": {},
     "nuid": "3005fb7b-1c6f-4a69-82be-17cd45b7a9f1",
     "showTitle": false,
     "tableResultSettingsMap": {},
     "title": ""
    }
   },
   "outputs": [
    {
     "name": "stdout",
     "output_type": "stream",
     "text": [
      "+-----+--------------+\n",
      "|memid|     telephone|\n",
      "+-----+--------------+\n",
      "|    0|(000) 000-0000|\n",
      "|    3|(844) 693-0723|\n",
      "|    4|(833) 942-4710|\n",
      "|    5|(844) 078-4130|\n",
      "|    6|(822) 354-9973|\n",
      "|    7|(833) 776-4001|\n",
      "|    8|(811) 433-2547|\n",
      "|    9|(833) 160-3900|\n",
      "|   10|(855) 542-5251|\n",
      "|   11|(844) 536-8036|\n",
      "|   13|(855) 016-0163|\n",
      "|   14|(822) 163-3254|\n",
      "|   15|(833) 499-3527|\n",
      "|   20|(811) 972-1377|\n",
      "|   21|(822) 661-2898|\n",
      "|   22|(822) 499-2232|\n",
      "|   24|(822) 413-1470|\n",
      "|   27|(822) 989-8876|\n",
      "|   28|(855) 755-9876|\n",
      "|   29|(855) 894-3758|\n",
      "+-----+--------------+\n",
      "only showing top 20 rows\n",
      "\n"
     ]
    }
   ],
   "source": [
    "from pyspark.sql.functions import contains\n",
    "\n",
    "result = df_mem.filter(\n",
    "    col('telephone').contains('(') | col('telephone').contains(')')\n",
    ").select(\n",
    "    'memid',\n",
    "    'telephone'\n",
    ").orderBy('memid')\n",
    "\n",
    "result.show()"
   ]
  },
  {
   "cell_type": "markdown",
   "metadata": {
    "application/vnd.databricks.v1+cell": {
     "cellMetadata": {},
     "inputWidgets": {},
     "nuid": "e000a672-6076-458a-960b-40b86f0e545b",
     "showTitle": false,
     "tableResultSettingsMap": {},
     "title": ""
    }
   },
   "source": [
    "### Question 4\n",
    "\n",
    "You'd like to produce a count of how many members you have whose surname starts with each letter of the alphabet. Sort by the letter, and don't worry about printing out a letter if the count is 0.\n",
    "\n",
    "\n",
    "https://pgexercises.com/questions/string/substr.html"
   ]
  },
  {
   "cell_type": "code",
   "execution_count": 0,
   "metadata": {
    "application/vnd.databricks.v1+cell": {
     "cellMetadata": {
      "byteLimit": 2048000,
      "rowLimit": 10000
     },
     "inputWidgets": {},
     "nuid": "642bbffc-785c-480e-a719-5dca220b7187",
     "showTitle": false,
     "tableResultSettingsMap": {},
     "title": ""
    }
   },
   "outputs": [
    {
     "name": "stdout",
     "output_type": "stream",
     "text": [
      "+------------+-----+\n",
      "|First Letter|count|\n",
      "+------------+-----+\n",
      "|           B|    5|\n",
      "|           C|    2|\n",
      "|           D|    1|\n",
      "|           F|    2|\n",
      "|           G|    2|\n",
      "|           H|    1|\n",
      "|           J|    3|\n",
      "|           M|    1|\n",
      "|           O|    1|\n",
      "|           P|    2|\n",
      "|           R|    2|\n",
      "|           S|    6|\n",
      "|           T|    2|\n",
      "|           W|    1|\n",
      "+------------+-----+\n",
      "\n"
     ]
    }
   ],
   "source": [
    "from pyspark.sql.functions import substring, upper\n",
    "\n",
    "result = df_mem.withColumn(\n",
    "    'First Letter', upper(substring(col('surname'), 1, 1))\n",
    ").groupBy('First Letter').agg(\n",
    "    count('*').alias('count')\n",
    ").filter(\n",
    "    col('count') > 0\n",
    ").orderBy('First Letter')\n",
    "\n",
    "result.show()"
   ]
  },
  {
   "cell_type": "markdown",
   "metadata": {
    "application/vnd.databricks.v1+cell": {
     "cellMetadata": {},
     "inputWidgets": {},
     "nuid": "97a4094a-433b-4b66-9a6e-49de197c0cd8",
     "showTitle": false,
     "tableResultSettingsMap": {},
     "title": ""
    }
   },
   "source": [
    "### Question 5\n",
    "\n",
    "Produce a list of all the dates in October 2012. They can be output as a timestamp (with time set to midnight) or a date.\n",
    "\n",
    "\n",
    "https://pgexercises.com/questions/date/series.html"
   ]
  },
  {
   "cell_type": "code",
   "execution_count": 0,
   "metadata": {
    "application/vnd.databricks.v1+cell": {
     "cellMetadata": {
      "byteLimit": 2048000,
      "rowLimit": 10000
     },
     "inputWidgets": {},
     "nuid": "44807702-82b2-4c3c-bdca-ff17b1383936",
     "showTitle": false,
     "tableResultSettingsMap": {},
     "title": ""
    }
   },
   "outputs": [],
   "source": [
    "# Needs further analysis"
   ]
  },
  {
   "cell_type": "markdown",
   "metadata": {
    "application/vnd.databricks.v1+cell": {
     "cellMetadata": {},
     "inputWidgets": {},
     "nuid": "9db1bc76-a27a-4199-9df9-6f8b305c8d3e",
     "showTitle": false,
     "tableResultSettingsMap": {},
     "title": ""
    }
   },
   "source": [
    "### Question 6\n",
    "\n",
    "Return a count of bookings for each month, sorted by month\n",
    "\n",
    "https://pgexercises.com/questions/date/bookingspermonth.html"
   ]
  },
  {
   "cell_type": "code",
   "execution_count": 0,
   "metadata": {
    "application/vnd.databricks.v1+cell": {
     "cellMetadata": {
      "byteLimit": 2048000,
      "rowLimit": 10000
     },
     "inputWidgets": {},
     "nuid": "60770ca8-6461-43af-9d5a-a038c7746614",
     "showTitle": false,
     "tableResultSettingsMap": {},
     "title": ""
    }
   },
   "outputs": [
    {
     "name": "stdout",
     "output_type": "stream",
     "text": [
      "+----------+-----+\n",
      "|     month|count|\n",
      "+----------+-----+\n",
      "|2012-07-01|  658|\n",
      "|2012-08-01| 1472|\n",
      "|2012-09-01| 1913|\n",
      "|2013-01-01|    1|\n",
      "+----------+-----+\n",
      "\n"
     ]
    }
   ],
   "source": [
    "from pyspark.sql.functions import date_trunc, count, to_date\n",
    "\n",
    "result = df_book.groupBy(\n",
    "    to_date(date_trunc('month', 'starttime')).alias('month')\n",
    ").agg(\n",
    "    count('*').alias('count')\n",
    ").orderBy('month')\n",
    "\n",
    "result.show()"
   ]
  },
  {
   "cell_type": "code",
   "execution_count": 0,
   "metadata": {
    "application/vnd.databricks.v1+cell": {
     "cellMetadata": {},
     "inputWidgets": {},
     "nuid": "c3e7c303-1c84-46b8-8b0c-6f4ec7cb3975",
     "showTitle": false,
     "tableResultSettingsMap": {},
     "title": ""
    }
   },
   "outputs": [],
   "source": []
  }
 ],
 "metadata": {
  "application/vnd.databricks.v1+notebook": {
   "computePreferences": null,
   "dashboards": [],
   "environmentMetadata": null,
   "language": "python",
   "notebookMetadata": {
    "pythonIndentUnit": 4
   },
   "notebookName": "sparkdataframe",
   "widgets": {}
  },
  "language_info": {
   "name": "python"
  }
 },
 "nbformat": 4,
 "nbformat_minor": 0
}
